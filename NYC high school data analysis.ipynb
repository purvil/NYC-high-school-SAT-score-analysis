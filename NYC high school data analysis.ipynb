{
 "cells": [
  {
   "cell_type": "markdown",
   "metadata": {},
   "source": [
    "### Import packages"
   ]
  },
  {
   "cell_type": "code",
   "execution_count": 131,
   "metadata": {},
   "outputs": [],
   "source": [
    "import pandas as pd\n",
    "import numpy as np\n",
    "import matplotlib.pyplot as plt\n",
    "import seaborn as sns\n",
    "%matplotlib inline"
   ]
  },
  {
   "cell_type": "markdown",
   "metadata": {},
   "source": [
    "### Our Objective"
   ]
  },
  {
   "cell_type": "markdown",
   "metadata": {},
   "source": [
    "* We have a data of SAT score from various NYC schools. We want to explore SAT score and various demographics. How it affect with race, gender, income. \n",
    "* SAT is Scholastic Aptitude Test, exam US high school students take before applying to college. There are 800 possible points for each section. Total 2400 possible points. School having high average SAT score is called good. Score also considered a measure of overall school district quality.\n",
    "* We have data about\n",
    "    - `SAT scores by school` - SAT scores for each high school in New York City\n",
    "    - `School attendance` - Attendance information for each school in New York City\n",
    "    - `Class size` - Information on class size for each school\n",
    "    - `AP test results` - Advanced Placement (AP) exam results for each high school (passing an optional AP exam in a particular subject can earn a student college credit in that subject)\n",
    "    - `Graduation outcomes` - The percentage of students who graduated, and other outcome information\n",
    "    - `Demographics` - Demographic information for each school"
   ]
  },
  {
   "cell_type": "markdown",
   "metadata": {},
   "source": [
    "* Only high school students take the SAT, so we'll want to focus on high schools.\n",
    "* New York City is made up of five boroughs, which are essentially distinct regions.\n",
    "* New York City schools fall within several different school districts, each of which can contains dozens of schools.\n",
    "* Our data sets include several different types of schools. We'll need to clean them so that we can focus on high schools only.\n",
    "* Each school in New York City has a unique code called a DBN, or district borough number.\n",
    "* Aggregating data by district will allow us to use the district mapping data to plot district-by-district differences."
   ]
  },
  {
   "cell_type": "markdown",
   "metadata": {},
   "source": [
    "* We have data files,\n",
    "    - `ap_2010.csv` - Data on AP test results\n",
    "    - `class_size.csv` - Data on class size\n",
    "    - `demographics.csv` - Data on demographics\n",
    "    - `graduation.csv` - Data on graduation outcomes\n",
    "    - `hs_directory.csv` - A directory of high schools\n",
    "    - `sat_results.csv` - Data on SAT scores\n",
    "    - `survey_all.txt` - Data on surveys from all schools\n",
    "    - `survey_d75.txt` - Data on surveys from New York City district 75"
   ]
  },
  {
   "cell_type": "markdown",
   "metadata": {},
   "source": [
    "### Import data"
   ]
  },
  {
   "cell_type": "code",
   "execution_count": 132,
   "metadata": {},
   "outputs": [],
   "source": [
    "data_files = [\n",
    "    \"ap_2010.csv\",\n",
    "    \"class_size.csv\",\n",
    "    \"demographics.csv\",\n",
    "    \"graduation.csv\",\n",
    "    \"hs_directory.csv\",\n",
    "    \"sat_results.csv\"\n",
    "]"
   ]
  },
  {
   "cell_type": "code",
   "execution_count": 133,
   "metadata": {},
   "outputs": [],
   "source": [
    "data = {}\n",
    "for f in data_files:\n",
    "    data[f.replace('.csv', '')] = pd.read_csv(\"data/\"+f)"
   ]
  },
  {
   "cell_type": "markdown",
   "metadata": {},
   "source": [
    "### Explore SAT dataset"
   ]
  },
  {
   "cell_type": "code",
   "execution_count": 134,
   "metadata": {},
   "outputs": [
    {
     "data": {
      "text/html": [
       "<div>\n",
       "<style scoped>\n",
       "    .dataframe tbody tr th:only-of-type {\n",
       "        vertical-align: middle;\n",
       "    }\n",
       "\n",
       "    .dataframe tbody tr th {\n",
       "        vertical-align: top;\n",
       "    }\n",
       "\n",
       "    .dataframe thead th {\n",
       "        text-align: right;\n",
       "    }\n",
       "</style>\n",
       "<table border=\"1\" class=\"dataframe\">\n",
       "  <thead>\n",
       "    <tr style=\"text-align: right;\">\n",
       "      <th></th>\n",
       "      <th>DBN</th>\n",
       "      <th>SCHOOL NAME</th>\n",
       "      <th>Num of SAT Test Takers</th>\n",
       "      <th>SAT Critical Reading Avg. Score</th>\n",
       "      <th>SAT Math Avg. Score</th>\n",
       "      <th>SAT Writing Avg. Score</th>\n",
       "    </tr>\n",
       "  </thead>\n",
       "  <tbody>\n",
       "    <tr>\n",
       "      <th>0</th>\n",
       "      <td>01M292</td>\n",
       "      <td>HENRY STREET SCHOOL FOR INTERNATIONAL STUDIES</td>\n",
       "      <td>29</td>\n",
       "      <td>355</td>\n",
       "      <td>404</td>\n",
       "      <td>363</td>\n",
       "    </tr>\n",
       "    <tr>\n",
       "      <th>1</th>\n",
       "      <td>01M448</td>\n",
       "      <td>UNIVERSITY NEIGHBORHOOD HIGH SCHOOL</td>\n",
       "      <td>91</td>\n",
       "      <td>383</td>\n",
       "      <td>423</td>\n",
       "      <td>366</td>\n",
       "    </tr>\n",
       "    <tr>\n",
       "      <th>2</th>\n",
       "      <td>01M450</td>\n",
       "      <td>EAST SIDE COMMUNITY SCHOOL</td>\n",
       "      <td>70</td>\n",
       "      <td>377</td>\n",
       "      <td>402</td>\n",
       "      <td>370</td>\n",
       "    </tr>\n",
       "    <tr>\n",
       "      <th>3</th>\n",
       "      <td>01M458</td>\n",
       "      <td>FORSYTH SATELLITE ACADEMY</td>\n",
       "      <td>7</td>\n",
       "      <td>414</td>\n",
       "      <td>401</td>\n",
       "      <td>359</td>\n",
       "    </tr>\n",
       "    <tr>\n",
       "      <th>4</th>\n",
       "      <td>01M509</td>\n",
       "      <td>MARTA VALLE HIGH SCHOOL</td>\n",
       "      <td>44</td>\n",
       "      <td>390</td>\n",
       "      <td>433</td>\n",
       "      <td>384</td>\n",
       "    </tr>\n",
       "  </tbody>\n",
       "</table>\n",
       "</div>"
      ],
      "text/plain": [
       "      DBN                                    SCHOOL NAME  \\\n",
       "0  01M292  HENRY STREET SCHOOL FOR INTERNATIONAL STUDIES   \n",
       "1  01M448            UNIVERSITY NEIGHBORHOOD HIGH SCHOOL   \n",
       "2  01M450                     EAST SIDE COMMUNITY SCHOOL   \n",
       "3  01M458                      FORSYTH SATELLITE ACADEMY   \n",
       "4  01M509                        MARTA VALLE HIGH SCHOOL   \n",
       "\n",
       "  Num of SAT Test Takers SAT Critical Reading Avg. Score SAT Math Avg. Score  \\\n",
       "0                     29                             355                 404   \n",
       "1                     91                             383                 423   \n",
       "2                     70                             377                 402   \n",
       "3                      7                             414                 401   \n",
       "4                     44                             390                 433   \n",
       "\n",
       "  SAT Writing Avg. Score  \n",
       "0                    363  \n",
       "1                    366  \n",
       "2                    370  \n",
       "3                    359  \n",
       "4                    384  "
      ]
     },
     "execution_count": 134,
     "metadata": {},
     "output_type": "execute_result"
    }
   ],
   "source": [
    "data[\"sat_results\"].head()"
   ]
  },
  {
   "cell_type": "markdown",
   "metadata": {},
   "source": [
    "* `DBN` is unique id for each school."
   ]
  },
  {
   "cell_type": "code",
   "execution_count": 135,
   "metadata": {},
   "outputs": [
    {
     "data": {
      "text/plain": [
       "(478, 6)"
      ]
     },
     "execution_count": 135,
     "metadata": {},
     "output_type": "execute_result"
    }
   ],
   "source": [
    "data[\"sat_results\"].shape"
   ]
  },
  {
   "cell_type": "code",
   "execution_count": 136,
   "metadata": {},
   "outputs": [
    {
     "data": {
      "text/plain": [
       "478"
      ]
     },
     "execution_count": 136,
     "metadata": {},
     "output_type": "execute_result"
    }
   ],
   "source": [
    "data[\"sat_results\"].DBN.nunique()"
   ]
  },
  {
   "cell_type": "markdown",
   "metadata": {},
   "source": [
    "* Ok, means there is a single row for each high school"
   ]
  },
  {
   "cell_type": "code",
   "execution_count": 137,
   "metadata": {},
   "outputs": [
    {
     "data": {
      "text/html": [
       "<div>\n",
       "<style scoped>\n",
       "    .dataframe tbody tr th:only-of-type {\n",
       "        vertical-align: middle;\n",
       "    }\n",
       "\n",
       "    .dataframe tbody tr th {\n",
       "        vertical-align: top;\n",
       "    }\n",
       "\n",
       "    .dataframe thead th {\n",
       "        text-align: right;\n",
       "    }\n",
       "</style>\n",
       "<table border=\"1\" class=\"dataframe\">\n",
       "  <thead>\n",
       "    <tr style=\"text-align: right;\">\n",
       "      <th></th>\n",
       "      <th>DBN</th>\n",
       "      <th>SchoolName</th>\n",
       "      <th>AP Test Takers</th>\n",
       "      <th>Total Exams Taken</th>\n",
       "      <th>Number of Exams with scores 3 4 or 5</th>\n",
       "    </tr>\n",
       "  </thead>\n",
       "  <tbody>\n",
       "    <tr>\n",
       "      <th>0</th>\n",
       "      <td>01M448</td>\n",
       "      <td>UNIVERSITY NEIGHBORHOOD H.S.</td>\n",
       "      <td>39</td>\n",
       "      <td>49</td>\n",
       "      <td>10</td>\n",
       "    </tr>\n",
       "    <tr>\n",
       "      <th>1</th>\n",
       "      <td>01M450</td>\n",
       "      <td>EAST SIDE COMMUNITY HS</td>\n",
       "      <td>19</td>\n",
       "      <td>21</td>\n",
       "      <td>s</td>\n",
       "    </tr>\n",
       "    <tr>\n",
       "      <th>2</th>\n",
       "      <td>01M515</td>\n",
       "      <td>LOWER EASTSIDE PREP</td>\n",
       "      <td>24</td>\n",
       "      <td>26</td>\n",
       "      <td>24</td>\n",
       "    </tr>\n",
       "    <tr>\n",
       "      <th>3</th>\n",
       "      <td>01M539</td>\n",
       "      <td>NEW EXPLORATIONS SCI,TECH,MATH</td>\n",
       "      <td>255</td>\n",
       "      <td>377</td>\n",
       "      <td>191</td>\n",
       "    </tr>\n",
       "    <tr>\n",
       "      <th>4</th>\n",
       "      <td>02M296</td>\n",
       "      <td>High School of Hospitality Management</td>\n",
       "      <td>s</td>\n",
       "      <td>s</td>\n",
       "      <td>s</td>\n",
       "    </tr>\n",
       "  </tbody>\n",
       "</table>\n",
       "</div>"
      ],
      "text/plain": [
       "      DBN                             SchoolName AP Test Takers   \\\n",
       "0  01M448           UNIVERSITY NEIGHBORHOOD H.S.              39   \n",
       "1  01M450                 EAST SIDE COMMUNITY HS              19   \n",
       "2  01M515                    LOWER EASTSIDE PREP              24   \n",
       "3  01M539         NEW EXPLORATIONS SCI,TECH,MATH             255   \n",
       "4  02M296  High School of Hospitality Management               s   \n",
       "\n",
       "  Total Exams Taken Number of Exams with scores 3 4 or 5  \n",
       "0                49                                   10  \n",
       "1                21                                    s  \n",
       "2                26                                   24  \n",
       "3               377                                  191  \n",
       "4                 s                                    s  "
      ]
     },
     "execution_count": 137,
     "metadata": {},
     "output_type": "execute_result"
    }
   ],
   "source": [
    "data[\"ap_2010\"].head()"
   ]
  },
  {
   "cell_type": "code",
   "execution_count": 138,
   "metadata": {},
   "outputs": [
    {
     "data": {
      "text/html": [
       "<div>\n",
       "<style scoped>\n",
       "    .dataframe tbody tr th:only-of-type {\n",
       "        vertical-align: middle;\n",
       "    }\n",
       "\n",
       "    .dataframe tbody tr th {\n",
       "        vertical-align: top;\n",
       "    }\n",
       "\n",
       "    .dataframe thead th {\n",
       "        text-align: right;\n",
       "    }\n",
       "</style>\n",
       "<table border=\"1\" class=\"dataframe\">\n",
       "  <thead>\n",
       "    <tr style=\"text-align: right;\">\n",
       "      <th></th>\n",
       "      <th>CSD</th>\n",
       "      <th>BOROUGH</th>\n",
       "      <th>SCHOOL CODE</th>\n",
       "      <th>SCHOOL NAME</th>\n",
       "      <th>GRADE</th>\n",
       "      <th>PROGRAM TYPE</th>\n",
       "      <th>CORE SUBJECT (MS CORE and 9-12 ONLY)</th>\n",
       "      <th>CORE COURSE (MS CORE and 9-12 ONLY)</th>\n",
       "      <th>SERVICE CATEGORY(K-9* ONLY)</th>\n",
       "      <th>NUMBER OF STUDENTS / SEATS FILLED</th>\n",
       "      <th>NUMBER OF SECTIONS</th>\n",
       "      <th>AVERAGE CLASS SIZE</th>\n",
       "      <th>SIZE OF SMALLEST CLASS</th>\n",
       "      <th>SIZE OF LARGEST CLASS</th>\n",
       "      <th>DATA SOURCE</th>\n",
       "      <th>SCHOOLWIDE PUPIL-TEACHER RATIO</th>\n",
       "    </tr>\n",
       "  </thead>\n",
       "  <tbody>\n",
       "    <tr>\n",
       "      <th>0</th>\n",
       "      <td>1</td>\n",
       "      <td>M</td>\n",
       "      <td>M015</td>\n",
       "      <td>P.S. 015 Roberto Clemente</td>\n",
       "      <td>0K</td>\n",
       "      <td>GEN ED</td>\n",
       "      <td>-</td>\n",
       "      <td>-</td>\n",
       "      <td>-</td>\n",
       "      <td>19.0</td>\n",
       "      <td>1.0</td>\n",
       "      <td>19.0</td>\n",
       "      <td>19.0</td>\n",
       "      <td>19.0</td>\n",
       "      <td>ATS</td>\n",
       "      <td>NaN</td>\n",
       "    </tr>\n",
       "    <tr>\n",
       "      <th>1</th>\n",
       "      <td>1</td>\n",
       "      <td>M</td>\n",
       "      <td>M015</td>\n",
       "      <td>P.S. 015 Roberto Clemente</td>\n",
       "      <td>0K</td>\n",
       "      <td>CTT</td>\n",
       "      <td>-</td>\n",
       "      <td>-</td>\n",
       "      <td>-</td>\n",
       "      <td>21.0</td>\n",
       "      <td>1.0</td>\n",
       "      <td>21.0</td>\n",
       "      <td>21.0</td>\n",
       "      <td>21.0</td>\n",
       "      <td>ATS</td>\n",
       "      <td>NaN</td>\n",
       "    </tr>\n",
       "    <tr>\n",
       "      <th>2</th>\n",
       "      <td>1</td>\n",
       "      <td>M</td>\n",
       "      <td>M015</td>\n",
       "      <td>P.S. 015 Roberto Clemente</td>\n",
       "      <td>01</td>\n",
       "      <td>GEN ED</td>\n",
       "      <td>-</td>\n",
       "      <td>-</td>\n",
       "      <td>-</td>\n",
       "      <td>17.0</td>\n",
       "      <td>1.0</td>\n",
       "      <td>17.0</td>\n",
       "      <td>17.0</td>\n",
       "      <td>17.0</td>\n",
       "      <td>ATS</td>\n",
       "      <td>NaN</td>\n",
       "    </tr>\n",
       "    <tr>\n",
       "      <th>3</th>\n",
       "      <td>1</td>\n",
       "      <td>M</td>\n",
       "      <td>M015</td>\n",
       "      <td>P.S. 015 Roberto Clemente</td>\n",
       "      <td>01</td>\n",
       "      <td>CTT</td>\n",
       "      <td>-</td>\n",
       "      <td>-</td>\n",
       "      <td>-</td>\n",
       "      <td>17.0</td>\n",
       "      <td>1.0</td>\n",
       "      <td>17.0</td>\n",
       "      <td>17.0</td>\n",
       "      <td>17.0</td>\n",
       "      <td>ATS</td>\n",
       "      <td>NaN</td>\n",
       "    </tr>\n",
       "    <tr>\n",
       "      <th>4</th>\n",
       "      <td>1</td>\n",
       "      <td>M</td>\n",
       "      <td>M015</td>\n",
       "      <td>P.S. 015 Roberto Clemente</td>\n",
       "      <td>02</td>\n",
       "      <td>GEN ED</td>\n",
       "      <td>-</td>\n",
       "      <td>-</td>\n",
       "      <td>-</td>\n",
       "      <td>15.0</td>\n",
       "      <td>1.0</td>\n",
       "      <td>15.0</td>\n",
       "      <td>15.0</td>\n",
       "      <td>15.0</td>\n",
       "      <td>ATS</td>\n",
       "      <td>NaN</td>\n",
       "    </tr>\n",
       "  </tbody>\n",
       "</table>\n",
       "</div>"
      ],
      "text/plain": [
       "   CSD BOROUGH SCHOOL CODE                SCHOOL NAME GRADE  PROGRAM TYPE  \\\n",
       "0    1       M        M015  P.S. 015 Roberto Clemente     0K       GEN ED   \n",
       "1    1       M        M015  P.S. 015 Roberto Clemente     0K          CTT   \n",
       "2    1       M        M015  P.S. 015 Roberto Clemente     01       GEN ED   \n",
       "3    1       M        M015  P.S. 015 Roberto Clemente     01          CTT   \n",
       "4    1       M        M015  P.S. 015 Roberto Clemente     02       GEN ED   \n",
       "\n",
       "  CORE SUBJECT (MS CORE and 9-12 ONLY) CORE COURSE (MS CORE and 9-12 ONLY)  \\\n",
       "0                                    -                                   -   \n",
       "1                                    -                                   -   \n",
       "2                                    -                                   -   \n",
       "3                                    -                                   -   \n",
       "4                                    -                                   -   \n",
       "\n",
       "  SERVICE CATEGORY(K-9* ONLY)  NUMBER OF STUDENTS / SEATS FILLED  \\\n",
       "0                           -                               19.0   \n",
       "1                           -                               21.0   \n",
       "2                           -                               17.0   \n",
       "3                           -                               17.0   \n",
       "4                           -                               15.0   \n",
       "\n",
       "   NUMBER OF SECTIONS  AVERAGE CLASS SIZE  SIZE OF SMALLEST CLASS  \\\n",
       "0                 1.0                19.0                    19.0   \n",
       "1                 1.0                21.0                    21.0   \n",
       "2                 1.0                17.0                    17.0   \n",
       "3                 1.0                17.0                    17.0   \n",
       "4                 1.0                15.0                    15.0   \n",
       "\n",
       "   SIZE OF LARGEST CLASS DATA SOURCE  SCHOOLWIDE PUPIL-TEACHER RATIO  \n",
       "0                   19.0         ATS                             NaN  \n",
       "1                   21.0         ATS                             NaN  \n",
       "2                   17.0         ATS                             NaN  \n",
       "3                   17.0         ATS                             NaN  \n",
       "4                   15.0         ATS                             NaN  "
      ]
     },
     "execution_count": 138,
     "metadata": {},
     "output_type": "execute_result"
    }
   ],
   "source": [
    "data[\"class_size\"].head()"
   ]
  },
  {
   "cell_type": "code",
   "execution_count": 139,
   "metadata": {},
   "outputs": [
    {
     "data": {
      "text/html": [
       "<div>\n",
       "<style scoped>\n",
       "    .dataframe tbody tr th:only-of-type {\n",
       "        vertical-align: middle;\n",
       "    }\n",
       "\n",
       "    .dataframe tbody tr th {\n",
       "        vertical-align: top;\n",
       "    }\n",
       "\n",
       "    .dataframe thead th {\n",
       "        text-align: right;\n",
       "    }\n",
       "</style>\n",
       "<table border=\"1\" class=\"dataframe\">\n",
       "  <thead>\n",
       "    <tr style=\"text-align: right;\">\n",
       "      <th></th>\n",
       "      <th>DBN</th>\n",
       "      <th>Name</th>\n",
       "      <th>schoolyear</th>\n",
       "      <th>fl_percent</th>\n",
       "      <th>frl_percent</th>\n",
       "      <th>total_enrollment</th>\n",
       "      <th>prek</th>\n",
       "      <th>k</th>\n",
       "      <th>grade1</th>\n",
       "      <th>grade2</th>\n",
       "      <th>...</th>\n",
       "      <th>black_num</th>\n",
       "      <th>black_per</th>\n",
       "      <th>hispanic_num</th>\n",
       "      <th>hispanic_per</th>\n",
       "      <th>white_num</th>\n",
       "      <th>white_per</th>\n",
       "      <th>male_num</th>\n",
       "      <th>male_per</th>\n",
       "      <th>female_num</th>\n",
       "      <th>female_per</th>\n",
       "    </tr>\n",
       "  </thead>\n",
       "  <tbody>\n",
       "    <tr>\n",
       "      <th>0</th>\n",
       "      <td>01M015</td>\n",
       "      <td>P.S. 015 ROBERTO CLEMENTE</td>\n",
       "      <td>20052006</td>\n",
       "      <td>89.4</td>\n",
       "      <td>NaN</td>\n",
       "      <td>281</td>\n",
       "      <td>15</td>\n",
       "      <td>36</td>\n",
       "      <td>40</td>\n",
       "      <td>33</td>\n",
       "      <td>...</td>\n",
       "      <td>74</td>\n",
       "      <td>26.3</td>\n",
       "      <td>189</td>\n",
       "      <td>67.3</td>\n",
       "      <td>5</td>\n",
       "      <td>1.8</td>\n",
       "      <td>158.0</td>\n",
       "      <td>56.2</td>\n",
       "      <td>123.0</td>\n",
       "      <td>43.8</td>\n",
       "    </tr>\n",
       "    <tr>\n",
       "      <th>1</th>\n",
       "      <td>01M015</td>\n",
       "      <td>P.S. 015 ROBERTO CLEMENTE</td>\n",
       "      <td>20062007</td>\n",
       "      <td>89.4</td>\n",
       "      <td>NaN</td>\n",
       "      <td>243</td>\n",
       "      <td>15</td>\n",
       "      <td>29</td>\n",
       "      <td>39</td>\n",
       "      <td>38</td>\n",
       "      <td>...</td>\n",
       "      <td>68</td>\n",
       "      <td>28.0</td>\n",
       "      <td>153</td>\n",
       "      <td>63.0</td>\n",
       "      <td>4</td>\n",
       "      <td>1.6</td>\n",
       "      <td>140.0</td>\n",
       "      <td>57.6</td>\n",
       "      <td>103.0</td>\n",
       "      <td>42.4</td>\n",
       "    </tr>\n",
       "    <tr>\n",
       "      <th>2</th>\n",
       "      <td>01M015</td>\n",
       "      <td>P.S. 015 ROBERTO CLEMENTE</td>\n",
       "      <td>20072008</td>\n",
       "      <td>89.4</td>\n",
       "      <td>NaN</td>\n",
       "      <td>261</td>\n",
       "      <td>18</td>\n",
       "      <td>43</td>\n",
       "      <td>39</td>\n",
       "      <td>36</td>\n",
       "      <td>...</td>\n",
       "      <td>77</td>\n",
       "      <td>29.5</td>\n",
       "      <td>157</td>\n",
       "      <td>60.2</td>\n",
       "      <td>7</td>\n",
       "      <td>2.7</td>\n",
       "      <td>143.0</td>\n",
       "      <td>54.8</td>\n",
       "      <td>118.0</td>\n",
       "      <td>45.2</td>\n",
       "    </tr>\n",
       "    <tr>\n",
       "      <th>3</th>\n",
       "      <td>01M015</td>\n",
       "      <td>P.S. 015 ROBERTO CLEMENTE</td>\n",
       "      <td>20082009</td>\n",
       "      <td>89.4</td>\n",
       "      <td>NaN</td>\n",
       "      <td>252</td>\n",
       "      <td>17</td>\n",
       "      <td>37</td>\n",
       "      <td>44</td>\n",
       "      <td>32</td>\n",
       "      <td>...</td>\n",
       "      <td>75</td>\n",
       "      <td>29.8</td>\n",
       "      <td>149</td>\n",
       "      <td>59.1</td>\n",
       "      <td>7</td>\n",
       "      <td>2.8</td>\n",
       "      <td>149.0</td>\n",
       "      <td>59.1</td>\n",
       "      <td>103.0</td>\n",
       "      <td>40.9</td>\n",
       "    </tr>\n",
       "    <tr>\n",
       "      <th>4</th>\n",
       "      <td>01M015</td>\n",
       "      <td>P.S. 015 ROBERTO CLEMENTE</td>\n",
       "      <td>20092010</td>\n",
       "      <td></td>\n",
       "      <td>96.5</td>\n",
       "      <td>208</td>\n",
       "      <td>16</td>\n",
       "      <td>40</td>\n",
       "      <td>28</td>\n",
       "      <td>32</td>\n",
       "      <td>...</td>\n",
       "      <td>67</td>\n",
       "      <td>32.2</td>\n",
       "      <td>118</td>\n",
       "      <td>56.7</td>\n",
       "      <td>6</td>\n",
       "      <td>2.9</td>\n",
       "      <td>124.0</td>\n",
       "      <td>59.6</td>\n",
       "      <td>84.0</td>\n",
       "      <td>40.4</td>\n",
       "    </tr>\n",
       "  </tbody>\n",
       "</table>\n",
       "<p>5 rows × 38 columns</p>\n",
       "</div>"
      ],
      "text/plain": [
       "      DBN                       Name  schoolyear fl_percent  frl_percent  \\\n",
       "0  01M015  P.S. 015 ROBERTO CLEMENTE    20052006       89.4          NaN   \n",
       "1  01M015  P.S. 015 ROBERTO CLEMENTE    20062007       89.4          NaN   \n",
       "2  01M015  P.S. 015 ROBERTO CLEMENTE    20072008       89.4          NaN   \n",
       "3  01M015  P.S. 015 ROBERTO CLEMENTE    20082009       89.4          NaN   \n",
       "4  01M015  P.S. 015 ROBERTO CLEMENTE    20092010                    96.5   \n",
       "\n",
       "   total_enrollment prek   k grade1 grade2    ...     black_num black_per  \\\n",
       "0               281   15  36     40     33    ...            74      26.3   \n",
       "1               243   15  29     39     38    ...            68      28.0   \n",
       "2               261   18  43     39     36    ...            77      29.5   \n",
       "3               252   17  37     44     32    ...            75      29.8   \n",
       "4               208   16  40     28     32    ...            67      32.2   \n",
       "\n",
       "  hispanic_num hispanic_per white_num white_per male_num male_per female_num  \\\n",
       "0          189         67.3         5       1.8    158.0     56.2      123.0   \n",
       "1          153         63.0         4       1.6    140.0     57.6      103.0   \n",
       "2          157         60.2         7       2.7    143.0     54.8      118.0   \n",
       "3          149         59.1         7       2.8    149.0     59.1      103.0   \n",
       "4          118         56.7         6       2.9    124.0     59.6       84.0   \n",
       "\n",
       "  female_per  \n",
       "0       43.8  \n",
       "1       42.4  \n",
       "2       45.2  \n",
       "3       40.9  \n",
       "4       40.4  \n",
       "\n",
       "[5 rows x 38 columns]"
      ]
     },
     "execution_count": 139,
     "metadata": {},
     "output_type": "execute_result"
    }
   ],
   "source": [
    "data[\"demographics\"].head()"
   ]
  },
  {
   "cell_type": "code",
   "execution_count": 140,
   "metadata": {},
   "outputs": [
    {
     "data": {
      "text/html": [
       "<div>\n",
       "<style scoped>\n",
       "    .dataframe tbody tr th:only-of-type {\n",
       "        vertical-align: middle;\n",
       "    }\n",
       "\n",
       "    .dataframe tbody tr th {\n",
       "        vertical-align: top;\n",
       "    }\n",
       "\n",
       "    .dataframe thead th {\n",
       "        text-align: right;\n",
       "    }\n",
       "</style>\n",
       "<table border=\"1\" class=\"dataframe\">\n",
       "  <thead>\n",
       "    <tr style=\"text-align: right;\">\n",
       "      <th></th>\n",
       "      <th>Demographic</th>\n",
       "      <th>DBN</th>\n",
       "      <th>School Name</th>\n",
       "      <th>Cohort</th>\n",
       "      <th>Total Cohort</th>\n",
       "      <th>Total Grads - n</th>\n",
       "      <th>Total Grads - % of cohort</th>\n",
       "      <th>Total Regents - n</th>\n",
       "      <th>Total Regents - % of cohort</th>\n",
       "      <th>Total Regents - % of grads</th>\n",
       "      <th>...</th>\n",
       "      <th>Regents w/o Advanced - n</th>\n",
       "      <th>Regents w/o Advanced - % of cohort</th>\n",
       "      <th>Regents w/o Advanced - % of grads</th>\n",
       "      <th>Local - n</th>\n",
       "      <th>Local - % of cohort</th>\n",
       "      <th>Local - % of grads</th>\n",
       "      <th>Still Enrolled - n</th>\n",
       "      <th>Still Enrolled - % of cohort</th>\n",
       "      <th>Dropped Out - n</th>\n",
       "      <th>Dropped Out - % of cohort</th>\n",
       "    </tr>\n",
       "  </thead>\n",
       "  <tbody>\n",
       "    <tr>\n",
       "      <th>0</th>\n",
       "      <td>Total Cohort</td>\n",
       "      <td>01M292</td>\n",
       "      <td>HENRY STREET SCHOOL FOR INTERNATIONAL</td>\n",
       "      <td>2003</td>\n",
       "      <td>5</td>\n",
       "      <td>s</td>\n",
       "      <td>s</td>\n",
       "      <td>s</td>\n",
       "      <td>s</td>\n",
       "      <td>s</td>\n",
       "      <td>...</td>\n",
       "      <td>s</td>\n",
       "      <td>s</td>\n",
       "      <td>s</td>\n",
       "      <td>s</td>\n",
       "      <td>s</td>\n",
       "      <td>s</td>\n",
       "      <td>s</td>\n",
       "      <td>s</td>\n",
       "      <td>s</td>\n",
       "      <td>s</td>\n",
       "    </tr>\n",
       "    <tr>\n",
       "      <th>1</th>\n",
       "      <td>Total Cohort</td>\n",
       "      <td>01M292</td>\n",
       "      <td>HENRY STREET SCHOOL FOR INTERNATIONAL</td>\n",
       "      <td>2004</td>\n",
       "      <td>55</td>\n",
       "      <td>37</td>\n",
       "      <td>67.3%</td>\n",
       "      <td>17</td>\n",
       "      <td>30.9%</td>\n",
       "      <td>45.9%</td>\n",
       "      <td>...</td>\n",
       "      <td>17</td>\n",
       "      <td>30.9%</td>\n",
       "      <td>45.9%</td>\n",
       "      <td>20</td>\n",
       "      <td>36.4%</td>\n",
       "      <td>54.1%</td>\n",
       "      <td>15</td>\n",
       "      <td>27.3%</td>\n",
       "      <td>3</td>\n",
       "      <td>5.5%</td>\n",
       "    </tr>\n",
       "    <tr>\n",
       "      <th>2</th>\n",
       "      <td>Total Cohort</td>\n",
       "      <td>01M292</td>\n",
       "      <td>HENRY STREET SCHOOL FOR INTERNATIONAL</td>\n",
       "      <td>2005</td>\n",
       "      <td>64</td>\n",
       "      <td>43</td>\n",
       "      <td>67.2%</td>\n",
       "      <td>27</td>\n",
       "      <td>42.2%</td>\n",
       "      <td>62.8%</td>\n",
       "      <td>...</td>\n",
       "      <td>27</td>\n",
       "      <td>42.2%</td>\n",
       "      <td>62.8%</td>\n",
       "      <td>16</td>\n",
       "      <td>25%</td>\n",
       "      <td>37.200000000000003%</td>\n",
       "      <td>9</td>\n",
       "      <td>14.1%</td>\n",
       "      <td>9</td>\n",
       "      <td>14.1%</td>\n",
       "    </tr>\n",
       "    <tr>\n",
       "      <th>3</th>\n",
       "      <td>Total Cohort</td>\n",
       "      <td>01M292</td>\n",
       "      <td>HENRY STREET SCHOOL FOR INTERNATIONAL</td>\n",
       "      <td>2006</td>\n",
       "      <td>78</td>\n",
       "      <td>43</td>\n",
       "      <td>55.1%</td>\n",
       "      <td>36</td>\n",
       "      <td>46.2%</td>\n",
       "      <td>83.7%</td>\n",
       "      <td>...</td>\n",
       "      <td>36</td>\n",
       "      <td>46.2%</td>\n",
       "      <td>83.7%</td>\n",
       "      <td>7</td>\n",
       "      <td>9%</td>\n",
       "      <td>16.3%</td>\n",
       "      <td>16</td>\n",
       "      <td>20.5%</td>\n",
       "      <td>11</td>\n",
       "      <td>14.1%</td>\n",
       "    </tr>\n",
       "    <tr>\n",
       "      <th>4</th>\n",
       "      <td>Total Cohort</td>\n",
       "      <td>01M292</td>\n",
       "      <td>HENRY STREET SCHOOL FOR INTERNATIONAL</td>\n",
       "      <td>2006 Aug</td>\n",
       "      <td>78</td>\n",
       "      <td>44</td>\n",
       "      <td>56.4%</td>\n",
       "      <td>37</td>\n",
       "      <td>47.4%</td>\n",
       "      <td>84.1%</td>\n",
       "      <td>...</td>\n",
       "      <td>37</td>\n",
       "      <td>47.4%</td>\n",
       "      <td>84.1%</td>\n",
       "      <td>7</td>\n",
       "      <td>9%</td>\n",
       "      <td>15.9%</td>\n",
       "      <td>15</td>\n",
       "      <td>19.2%</td>\n",
       "      <td>11</td>\n",
       "      <td>14.1%</td>\n",
       "    </tr>\n",
       "  </tbody>\n",
       "</table>\n",
       "<p>5 rows × 23 columns</p>\n",
       "</div>"
      ],
      "text/plain": [
       "    Demographic     DBN                            School Name    Cohort  \\\n",
       "0  Total Cohort  01M292  HENRY STREET SCHOOL FOR INTERNATIONAL      2003   \n",
       "1  Total Cohort  01M292  HENRY STREET SCHOOL FOR INTERNATIONAL      2004   \n",
       "2  Total Cohort  01M292  HENRY STREET SCHOOL FOR INTERNATIONAL      2005   \n",
       "3  Total Cohort  01M292  HENRY STREET SCHOOL FOR INTERNATIONAL      2006   \n",
       "4  Total Cohort  01M292  HENRY STREET SCHOOL FOR INTERNATIONAL  2006 Aug   \n",
       "\n",
       "   Total Cohort Total Grads - n Total Grads - % of cohort Total Regents - n  \\\n",
       "0             5               s                         s                 s   \n",
       "1            55              37                     67.3%                17   \n",
       "2            64              43                     67.2%                27   \n",
       "3            78              43                     55.1%                36   \n",
       "4            78              44                     56.4%                37   \n",
       "\n",
       "  Total Regents - % of cohort Total Regents - % of grads  \\\n",
       "0                           s                          s   \n",
       "1                       30.9%                      45.9%   \n",
       "2                       42.2%                      62.8%   \n",
       "3                       46.2%                      83.7%   \n",
       "4                       47.4%                      84.1%   \n",
       "\n",
       "             ...            Regents w/o Advanced - n  \\\n",
       "0            ...                                   s   \n",
       "1            ...                                  17   \n",
       "2            ...                                  27   \n",
       "3            ...                                  36   \n",
       "4            ...                                  37   \n",
       "\n",
       "  Regents w/o Advanced - % of cohort Regents w/o Advanced - % of grads  \\\n",
       "0                                  s                                 s   \n",
       "1                              30.9%                             45.9%   \n",
       "2                              42.2%                             62.8%   \n",
       "3                              46.2%                             83.7%   \n",
       "4                              47.4%                             84.1%   \n",
       "\n",
       "  Local - n Local - % of cohort   Local - % of grads Still Enrolled - n  \\\n",
       "0         s                   s                    s                  s   \n",
       "1        20               36.4%                54.1%                 15   \n",
       "2        16                 25%  37.200000000000003%                  9   \n",
       "3         7                  9%                16.3%                 16   \n",
       "4         7                  9%                15.9%                 15   \n",
       "\n",
       "  Still Enrolled - % of cohort Dropped Out - n Dropped Out - % of cohort  \n",
       "0                            s               s                         s  \n",
       "1                        27.3%               3                      5.5%  \n",
       "2                        14.1%               9                     14.1%  \n",
       "3                        20.5%              11                     14.1%  \n",
       "4                        19.2%              11                     14.1%  \n",
       "\n",
       "[5 rows x 23 columns]"
      ]
     },
     "execution_count": 140,
     "metadata": {},
     "output_type": "execute_result"
    }
   ],
   "source": [
    "data[\"graduation\"].head()"
   ]
  },
  {
   "cell_type": "code",
   "execution_count": 141,
   "metadata": {},
   "outputs": [
    {
     "data": {
      "text/html": [
       "<div>\n",
       "<style scoped>\n",
       "    .dataframe tbody tr th:only-of-type {\n",
       "        vertical-align: middle;\n",
       "    }\n",
       "\n",
       "    .dataframe tbody tr th {\n",
       "        vertical-align: top;\n",
       "    }\n",
       "\n",
       "    .dataframe thead th {\n",
       "        text-align: right;\n",
       "    }\n",
       "</style>\n",
       "<table border=\"1\" class=\"dataframe\">\n",
       "  <thead>\n",
       "    <tr style=\"text-align: right;\">\n",
       "      <th></th>\n",
       "      <th>dbn</th>\n",
       "      <th>school_name</th>\n",
       "      <th>boro</th>\n",
       "      <th>building_code</th>\n",
       "      <th>phone_number</th>\n",
       "      <th>fax_number</th>\n",
       "      <th>grade_span_min</th>\n",
       "      <th>grade_span_max</th>\n",
       "      <th>expgrade_span_min</th>\n",
       "      <th>expgrade_span_max</th>\n",
       "      <th>...</th>\n",
       "      <th>priority02</th>\n",
       "      <th>priority03</th>\n",
       "      <th>priority04</th>\n",
       "      <th>priority05</th>\n",
       "      <th>priority06</th>\n",
       "      <th>priority07</th>\n",
       "      <th>priority08</th>\n",
       "      <th>priority09</th>\n",
       "      <th>priority10</th>\n",
       "      <th>Location 1</th>\n",
       "    </tr>\n",
       "  </thead>\n",
       "  <tbody>\n",
       "    <tr>\n",
       "      <th>0</th>\n",
       "      <td>17K548</td>\n",
       "      <td>Brooklyn School for Music &amp; Theatre</td>\n",
       "      <td>Brooklyn</td>\n",
       "      <td>K440</td>\n",
       "      <td>718-230-6250</td>\n",
       "      <td>718-230-6262</td>\n",
       "      <td>9</td>\n",
       "      <td>12</td>\n",
       "      <td>NaN</td>\n",
       "      <td>NaN</td>\n",
       "      <td>...</td>\n",
       "      <td>Then to New York City residents</td>\n",
       "      <td>NaN</td>\n",
       "      <td>NaN</td>\n",
       "      <td>NaN</td>\n",
       "      <td>NaN</td>\n",
       "      <td>NaN</td>\n",
       "      <td>NaN</td>\n",
       "      <td>NaN</td>\n",
       "      <td>NaN</td>\n",
       "      <td>883 Classon Avenue\\nBrooklyn, NY 11225\\n(40.67...</td>\n",
       "    </tr>\n",
       "    <tr>\n",
       "      <th>1</th>\n",
       "      <td>09X543</td>\n",
       "      <td>High School for Violin and Dance</td>\n",
       "      <td>Bronx</td>\n",
       "      <td>X400</td>\n",
       "      <td>718-842-0687</td>\n",
       "      <td>718-589-9849</td>\n",
       "      <td>9</td>\n",
       "      <td>12</td>\n",
       "      <td>NaN</td>\n",
       "      <td>NaN</td>\n",
       "      <td>...</td>\n",
       "      <td>Then to New York City residents who attend an ...</td>\n",
       "      <td>Then to Bronx students or residents</td>\n",
       "      <td>Then to New York City residents</td>\n",
       "      <td>NaN</td>\n",
       "      <td>NaN</td>\n",
       "      <td>NaN</td>\n",
       "      <td>NaN</td>\n",
       "      <td>NaN</td>\n",
       "      <td>NaN</td>\n",
       "      <td>1110 Boston Road\\nBronx, NY 10456\\n(40.8276026...</td>\n",
       "    </tr>\n",
       "    <tr>\n",
       "      <th>2</th>\n",
       "      <td>09X327</td>\n",
       "      <td>Comprehensive Model School Project M.S. 327</td>\n",
       "      <td>Bronx</td>\n",
       "      <td>X240</td>\n",
       "      <td>718-294-8111</td>\n",
       "      <td>718-294-8109</td>\n",
       "      <td>6</td>\n",
       "      <td>12</td>\n",
       "      <td>NaN</td>\n",
       "      <td>NaN</td>\n",
       "      <td>...</td>\n",
       "      <td>Then to Bronx students or residents who attend...</td>\n",
       "      <td>Then to New York City residents who attend an ...</td>\n",
       "      <td>Then to Bronx students or residents</td>\n",
       "      <td>Then to New York City residents</td>\n",
       "      <td>NaN</td>\n",
       "      <td>NaN</td>\n",
       "      <td>NaN</td>\n",
       "      <td>NaN</td>\n",
       "      <td>NaN</td>\n",
       "      <td>1501 Jerome Avenue\\nBronx, NY 10452\\n(40.84241...</td>\n",
       "    </tr>\n",
       "    <tr>\n",
       "      <th>3</th>\n",
       "      <td>02M280</td>\n",
       "      <td>Manhattan Early College School for Advertising</td>\n",
       "      <td>Manhattan</td>\n",
       "      <td>M520</td>\n",
       "      <td>718-935-3477</td>\n",
       "      <td>NaN</td>\n",
       "      <td>9</td>\n",
       "      <td>10</td>\n",
       "      <td>9</td>\n",
       "      <td>14.0</td>\n",
       "      <td>...</td>\n",
       "      <td>Then to New York City residents who attend an ...</td>\n",
       "      <td>Then to Manhattan students or residents</td>\n",
       "      <td>Then to New York City residents</td>\n",
       "      <td>NaN</td>\n",
       "      <td>NaN</td>\n",
       "      <td>NaN</td>\n",
       "      <td>NaN</td>\n",
       "      <td>NaN</td>\n",
       "      <td>NaN</td>\n",
       "      <td>411 Pearl Street\\nNew York, NY 10038\\n(40.7106...</td>\n",
       "    </tr>\n",
       "    <tr>\n",
       "      <th>4</th>\n",
       "      <td>28Q680</td>\n",
       "      <td>Queens Gateway to Health Sciences Secondary Sc...</td>\n",
       "      <td>Queens</td>\n",
       "      <td>Q695</td>\n",
       "      <td>718-969-3155</td>\n",
       "      <td>718-969-3552</td>\n",
       "      <td>6</td>\n",
       "      <td>12</td>\n",
       "      <td>NaN</td>\n",
       "      <td>NaN</td>\n",
       "      <td>...</td>\n",
       "      <td>Then to Districts 28 and 29 students or residents</td>\n",
       "      <td>Then to Queens students or residents</td>\n",
       "      <td>Then to New York City residents</td>\n",
       "      <td>NaN</td>\n",
       "      <td>NaN</td>\n",
       "      <td>NaN</td>\n",
       "      <td>NaN</td>\n",
       "      <td>NaN</td>\n",
       "      <td>NaN</td>\n",
       "      <td>160-20 Goethals Avenue\\nJamaica, NY 11432\\n(40...</td>\n",
       "    </tr>\n",
       "  </tbody>\n",
       "</table>\n",
       "<p>5 rows × 58 columns</p>\n",
       "</div>"
      ],
      "text/plain": [
       "      dbn                                        school_name       boro  \\\n",
       "0  17K548                Brooklyn School for Music & Theatre   Brooklyn   \n",
       "1  09X543                   High School for Violin and Dance      Bronx   \n",
       "2  09X327        Comprehensive Model School Project M.S. 327      Bronx   \n",
       "3  02M280     Manhattan Early College School for Advertising  Manhattan   \n",
       "4  28Q680  Queens Gateway to Health Sciences Secondary Sc...     Queens   \n",
       "\n",
       "  building_code    phone_number    fax_number grade_span_min  grade_span_max  \\\n",
       "0          K440    718-230-6250  718-230-6262              9              12   \n",
       "1          X400    718-842-0687  718-589-9849              9              12   \n",
       "2          X240    718-294-8111  718-294-8109              6              12   \n",
       "3          M520  718-935-3477             NaN              9              10   \n",
       "4          Q695    718-969-3155  718-969-3552              6              12   \n",
       "\n",
       "  expgrade_span_min  expgrade_span_max  \\\n",
       "0               NaN                NaN   \n",
       "1               NaN                NaN   \n",
       "2               NaN                NaN   \n",
       "3                 9               14.0   \n",
       "4               NaN                NaN   \n",
       "\n",
       "                         ...                          \\\n",
       "0                        ...                           \n",
       "1                        ...                           \n",
       "2                        ...                           \n",
       "3                        ...                           \n",
       "4                        ...                           \n",
       "\n",
       "                                          priority02  \\\n",
       "0                    Then to New York City residents   \n",
       "1  Then to New York City residents who attend an ...   \n",
       "2  Then to Bronx students or residents who attend...   \n",
       "3  Then to New York City residents who attend an ...   \n",
       "4  Then to Districts 28 and 29 students or residents   \n",
       "\n",
       "                                          priority03  \\\n",
       "0                                                NaN   \n",
       "1                Then to Bronx students or residents   \n",
       "2  Then to New York City residents who attend an ...   \n",
       "3          Then to Manhattan students or residents     \n",
       "4               Then to Queens students or residents   \n",
       "\n",
       "                            priority04                       priority05  \\\n",
       "0                                  NaN                              NaN   \n",
       "1      Then to New York City residents                              NaN   \n",
       "2  Then to Bronx students or residents  Then to New York City residents   \n",
       "3      Then to New York City residents                              NaN   \n",
       "4      Then to New York City residents                              NaN   \n",
       "\n",
       "  priority06  priority07 priority08  priority09 priority10  \\\n",
       "0        NaN         NaN        NaN         NaN        NaN   \n",
       "1        NaN         NaN        NaN         NaN        NaN   \n",
       "2        NaN         NaN        NaN         NaN        NaN   \n",
       "3        NaN         NaN        NaN         NaN        NaN   \n",
       "4        NaN         NaN        NaN         NaN        NaN   \n",
       "\n",
       "                                          Location 1  \n",
       "0  883 Classon Avenue\\nBrooklyn, NY 11225\\n(40.67...  \n",
       "1  1110 Boston Road\\nBronx, NY 10456\\n(40.8276026...  \n",
       "2  1501 Jerome Avenue\\nBronx, NY 10452\\n(40.84241...  \n",
       "3  411 Pearl Street\\nNew York, NY 10038\\n(40.7106...  \n",
       "4  160-20 Goethals Avenue\\nJamaica, NY 11432\\n(40...  \n",
       "\n",
       "[5 rows x 58 columns]"
      ]
     },
     "execution_count": 141,
     "metadata": {},
     "output_type": "execute_result"
    }
   ],
   "source": [
    "data[\"hs_directory\"].head()"
   ]
  },
  {
   "cell_type": "markdown",
   "metadata": {},
   "source": [
    "* Mostly each dataset has `DBN` column.\n",
    "* `data[\"hs_directory\"]` has `Location 1` column which has longitude and latitude info."
   ]
  },
  {
   "cell_type": "markdown",
   "metadata": {},
   "source": [
    "* Let's read survey data"
   ]
  },
  {
   "cell_type": "markdown",
   "metadata": {},
   "source": [
    "### Clean column name"
   ]
  },
  {
   "cell_type": "code",
   "execution_count": 142,
   "metadata": {},
   "outputs": [],
   "source": [
    "data[\"ap_2010\"].columns = data[\"ap_2010\"].columns.str.strip()"
   ]
  },
  {
   "cell_type": "code",
   "execution_count": 143,
   "metadata": {},
   "outputs": [
    {
     "data": {
      "text/plain": [
       "Index(['DBN', 'SchoolName', 'AP Test Takers', 'Total Exams Taken',\n",
       "       'Number of Exams with scores 3 4 or 5'],\n",
       "      dtype='object')"
      ]
     },
     "execution_count": 143,
     "metadata": {},
     "output_type": "execute_result"
    }
   ],
   "source": [
    "data[\"ap_2010\"].columns"
   ]
  },
  {
   "cell_type": "code",
   "execution_count": 144,
   "metadata": {},
   "outputs": [],
   "source": [
    "data[\"sat_results\"].columns = data[\"sat_results\"].columns.str.strip()"
   ]
  },
  {
   "cell_type": "code",
   "execution_count": 145,
   "metadata": {},
   "outputs": [
    {
     "data": {
      "text/plain": [
       "Index(['DBN', 'SCHOOL NAME', 'Num of SAT Test Takers',\n",
       "       'SAT Critical Reading Avg. Score', 'SAT Math Avg. Score',\n",
       "       'SAT Writing Avg. Score'],\n",
       "      dtype='object')"
      ]
     },
     "execution_count": 145,
     "metadata": {},
     "output_type": "execute_result"
    }
   ],
   "source": [
    "data['sat_results'].columns"
   ]
  },
  {
   "cell_type": "code",
   "execution_count": 146,
   "metadata": {},
   "outputs": [],
   "source": [
    "data[\"class_size\"].columns = data[\"class_size\"].columns.str.strip()"
   ]
  },
  {
   "cell_type": "code",
   "execution_count": 147,
   "metadata": {},
   "outputs": [
    {
     "data": {
      "text/plain": [
       "Index(['CSD', 'BOROUGH', 'SCHOOL CODE', 'SCHOOL NAME', 'GRADE', 'PROGRAM TYPE',\n",
       "       'CORE SUBJECT (MS CORE and 9-12 ONLY)',\n",
       "       'CORE COURSE (MS CORE and 9-12 ONLY)', 'SERVICE CATEGORY(K-9* ONLY)',\n",
       "       'NUMBER OF STUDENTS / SEATS FILLED', 'NUMBER OF SECTIONS',\n",
       "       'AVERAGE CLASS SIZE', 'SIZE OF SMALLEST CLASS', 'SIZE OF LARGEST CLASS',\n",
       "       'DATA SOURCE', 'SCHOOLWIDE PUPIL-TEACHER RATIO'],\n",
       "      dtype='object')"
      ]
     },
     "execution_count": 147,
     "metadata": {},
     "output_type": "execute_result"
    }
   ],
   "source": [
    "data[\"class_size\"].columns"
   ]
  },
  {
   "cell_type": "code",
   "execution_count": 148,
   "metadata": {},
   "outputs": [],
   "source": [
    "data['hs_directory'].columns = data[\"hs_directory\"].columns.str.strip()"
   ]
  },
  {
   "cell_type": "code",
   "execution_count": 149,
   "metadata": {},
   "outputs": [
    {
     "data": {
      "text/plain": [
       "Index(['dbn', 'school_name', 'boro', 'building_code', 'phone_number',\n",
       "       'fax_number', 'grade_span_min', 'grade_span_max', 'expgrade_span_min',\n",
       "       'expgrade_span_max', 'bus', 'subway', 'primary_address_line_1', 'city',\n",
       "       'state_code', 'zip', 'website', 'total_students', 'campus_name',\n",
       "       'school_type', 'overview_paragraph', 'program_highlights',\n",
       "       'language_classes', 'advancedplacement_courses', 'online_ap_courses',\n",
       "       'online_language_courses', 'extracurricular_activities',\n",
       "       'psal_sports_boys', 'psal_sports_girls', 'psal_sports_coed',\n",
       "       'school_sports', 'partner_cbo', 'partner_hospital', 'partner_highered',\n",
       "       'partner_cultural', 'partner_nonprofit', 'partner_corporate',\n",
       "       'partner_financial', 'partner_other', 'addtl_info1', 'addtl_info2',\n",
       "       'start_time', 'end_time', 'se_services', 'ell_programs',\n",
       "       'school_accessibility_description', 'number_programs', 'priority01',\n",
       "       'priority02', 'priority03', 'priority04', 'priority05', 'priority06',\n",
       "       'priority07', 'priority08', 'priority09', 'priority10', 'Location 1'],\n",
       "      dtype='object')"
      ]
     },
     "execution_count": 149,
     "metadata": {},
     "output_type": "execute_result"
    }
   ],
   "source": [
    "data['hs_directory'].columns"
   ]
  },
  {
   "cell_type": "code",
   "execution_count": 150,
   "metadata": {},
   "outputs": [],
   "source": [
    "data[\"graduation\"].columns = data['graduation'].columns.str.strip()"
   ]
  },
  {
   "cell_type": "code",
   "execution_count": 151,
   "metadata": {},
   "outputs": [
    {
     "data": {
      "text/plain": [
       "Index(['Demographic', 'DBN', 'School Name', 'Cohort', 'Total Cohort',\n",
       "       'Total Grads - n', 'Total Grads - % of cohort', 'Total Regents - n',\n",
       "       'Total Regents - % of cohort', 'Total Regents - % of grads',\n",
       "       'Advanced Regents - n', 'Advanced Regents - % of cohort',\n",
       "       'Advanced Regents - % of grads', 'Regents w/o Advanced - n',\n",
       "       'Regents w/o Advanced - % of cohort',\n",
       "       'Regents w/o Advanced - % of grads', 'Local - n', 'Local - % of cohort',\n",
       "       'Local - % of grads', 'Still Enrolled - n',\n",
       "       'Still Enrolled - % of cohort', 'Dropped Out - n',\n",
       "       'Dropped Out - % of cohort'],\n",
       "      dtype='object')"
      ]
     },
     "execution_count": 151,
     "metadata": {},
     "output_type": "execute_result"
    }
   ],
   "source": [
    "data[\"graduation\"].columns"
   ]
  },
  {
   "cell_type": "code",
   "execution_count": 152,
   "metadata": {},
   "outputs": [],
   "source": [
    "data[\"demographics\"].columns = data[\"demographics\"].columns.str.strip()"
   ]
  },
  {
   "cell_type": "code",
   "execution_count": 153,
   "metadata": {},
   "outputs": [
    {
     "data": {
      "text/plain": [
       "Index(['DBN', 'Name', 'schoolyear', 'fl_percent', 'frl_percent',\n",
       "       'total_enrollment', 'prek', 'k', 'grade1', 'grade2', 'grade3', 'grade4',\n",
       "       'grade5', 'grade6', 'grade7', 'grade8', 'grade9', 'grade10', 'grade11',\n",
       "       'grade12', 'ell_num', 'ell_percent', 'sped_num', 'sped_percent',\n",
       "       'ctt_num', 'selfcontained_num', 'asian_num', 'asian_per', 'black_num',\n",
       "       'black_per', 'hispanic_num', 'hispanic_per', 'white_num', 'white_per',\n",
       "       'male_num', 'male_per', 'female_num', 'female_per'],\n",
       "      dtype='object')"
      ]
     },
     "execution_count": 153,
     "metadata": {},
     "output_type": "execute_result"
    }
   ],
   "source": [
    "data[\"demographics\"].columns"
   ]
  },
  {
   "cell_type": "code",
   "execution_count": 154,
   "metadata": {},
   "outputs": [],
   "source": [
    "all_survey = pd.read_csv(\"data/survey_all.txt\", delimiter='\\t', encoding = 'windows-1252')\n",
    "d75_survey = pd.read_csv(\"data/survey_d75.txt\", delimiter='\\t', encoding = 'windows-1252')"
   ]
  },
  {
   "cell_type": "code",
   "execution_count": 155,
   "metadata": {},
   "outputs": [
    {
     "name": "stderr",
     "output_type": "stream",
     "text": [
      "C:\\Users\\davep\\Anaconda3\\lib\\site-packages\\ipykernel_launcher.py:1: FutureWarning: Sorting because non-concatenation axis is not aligned. A future version\n",
      "of pandas will change to not sort by default.\n",
      "\n",
      "To accept the future behavior, pass 'sort=False'.\n",
      "\n",
      "To retain the current behavior and silence the warning, pass 'sort=True'.\n",
      "\n",
      "  \"\"\"Entry point for launching an IPython kernel.\n"
     ]
    }
   ],
   "source": [
    "survey = pd.concat([all_survey, d75_survey], axis=0)"
   ]
  },
  {
   "cell_type": "code",
   "execution_count": 156,
   "metadata": {},
   "outputs": [
    {
     "data": {
      "text/html": [
       "<div>\n",
       "<style scoped>\n",
       "    .dataframe tbody tr th:only-of-type {\n",
       "        vertical-align: middle;\n",
       "    }\n",
       "\n",
       "    .dataframe tbody tr th {\n",
       "        vertical-align: top;\n",
       "    }\n",
       "\n",
       "    .dataframe thead th {\n",
       "        text-align: right;\n",
       "    }\n",
       "</style>\n",
       "<table border=\"1\" class=\"dataframe\">\n",
       "  <thead>\n",
       "    <tr style=\"text-align: right;\">\n",
       "      <th></th>\n",
       "      <th>N_p</th>\n",
       "      <th>N_s</th>\n",
       "      <th>N_t</th>\n",
       "      <th>aca_p_11</th>\n",
       "      <th>aca_s_11</th>\n",
       "      <th>aca_t_11</th>\n",
       "      <th>aca_tot_11</th>\n",
       "      <th>bn</th>\n",
       "      <th>com_p_11</th>\n",
       "      <th>com_s_11</th>\n",
       "      <th>...</th>\n",
       "      <th>t_q8c_1</th>\n",
       "      <th>t_q8c_2</th>\n",
       "      <th>t_q8c_3</th>\n",
       "      <th>t_q8c_4</th>\n",
       "      <th>t_q9</th>\n",
       "      <th>t_q9_1</th>\n",
       "      <th>t_q9_2</th>\n",
       "      <th>t_q9_3</th>\n",
       "      <th>t_q9_4</th>\n",
       "      <th>t_q9_5</th>\n",
       "    </tr>\n",
       "  </thead>\n",
       "  <tbody>\n",
       "    <tr>\n",
       "      <th>0</th>\n",
       "      <td>90.0</td>\n",
       "      <td>NaN</td>\n",
       "      <td>22.0</td>\n",
       "      <td>7.8</td>\n",
       "      <td>NaN</td>\n",
       "      <td>7.9</td>\n",
       "      <td>7.9</td>\n",
       "      <td>M015</td>\n",
       "      <td>7.6</td>\n",
       "      <td>NaN</td>\n",
       "      <td>...</td>\n",
       "      <td>29.0</td>\n",
       "      <td>67.0</td>\n",
       "      <td>5.0</td>\n",
       "      <td>0.0</td>\n",
       "      <td>NaN</td>\n",
       "      <td>5.0</td>\n",
       "      <td>14.0</td>\n",
       "      <td>52.0</td>\n",
       "      <td>24.0</td>\n",
       "      <td>5.0</td>\n",
       "    </tr>\n",
       "    <tr>\n",
       "      <th>1</th>\n",
       "      <td>161.0</td>\n",
       "      <td>NaN</td>\n",
       "      <td>34.0</td>\n",
       "      <td>7.8</td>\n",
       "      <td>NaN</td>\n",
       "      <td>9.1</td>\n",
       "      <td>8.4</td>\n",
       "      <td>M019</td>\n",
       "      <td>7.6</td>\n",
       "      <td>NaN</td>\n",
       "      <td>...</td>\n",
       "      <td>74.0</td>\n",
       "      <td>21.0</td>\n",
       "      <td>6.0</td>\n",
       "      <td>0.0</td>\n",
       "      <td>NaN</td>\n",
       "      <td>3.0</td>\n",
       "      <td>6.0</td>\n",
       "      <td>3.0</td>\n",
       "      <td>78.0</td>\n",
       "      <td>9.0</td>\n",
       "    </tr>\n",
       "    <tr>\n",
       "      <th>2</th>\n",
       "      <td>367.0</td>\n",
       "      <td>NaN</td>\n",
       "      <td>42.0</td>\n",
       "      <td>8.6</td>\n",
       "      <td>NaN</td>\n",
       "      <td>7.5</td>\n",
       "      <td>8.0</td>\n",
       "      <td>M020</td>\n",
       "      <td>8.3</td>\n",
       "      <td>NaN</td>\n",
       "      <td>...</td>\n",
       "      <td>33.0</td>\n",
       "      <td>35.0</td>\n",
       "      <td>20.0</td>\n",
       "      <td>13.0</td>\n",
       "      <td>NaN</td>\n",
       "      <td>3.0</td>\n",
       "      <td>5.0</td>\n",
       "      <td>16.0</td>\n",
       "      <td>70.0</td>\n",
       "      <td>5.0</td>\n",
       "    </tr>\n",
       "    <tr>\n",
       "      <th>3</th>\n",
       "      <td>151.0</td>\n",
       "      <td>145.0</td>\n",
       "      <td>29.0</td>\n",
       "      <td>8.5</td>\n",
       "      <td>7.4</td>\n",
       "      <td>7.8</td>\n",
       "      <td>7.9</td>\n",
       "      <td>M034</td>\n",
       "      <td>8.2</td>\n",
       "      <td>5.9</td>\n",
       "      <td>...</td>\n",
       "      <td>21.0</td>\n",
       "      <td>45.0</td>\n",
       "      <td>28.0</td>\n",
       "      <td>7.0</td>\n",
       "      <td>NaN</td>\n",
       "      <td>0.0</td>\n",
       "      <td>18.0</td>\n",
       "      <td>32.0</td>\n",
       "      <td>39.0</td>\n",
       "      <td>11.0</td>\n",
       "    </tr>\n",
       "    <tr>\n",
       "      <th>4</th>\n",
       "      <td>90.0</td>\n",
       "      <td>NaN</td>\n",
       "      <td>23.0</td>\n",
       "      <td>7.9</td>\n",
       "      <td>NaN</td>\n",
       "      <td>8.1</td>\n",
       "      <td>8.0</td>\n",
       "      <td>M063</td>\n",
       "      <td>7.9</td>\n",
       "      <td>NaN</td>\n",
       "      <td>...</td>\n",
       "      <td>59.0</td>\n",
       "      <td>36.0</td>\n",
       "      <td>5.0</td>\n",
       "      <td>0.0</td>\n",
       "      <td>NaN</td>\n",
       "      <td>10.0</td>\n",
       "      <td>5.0</td>\n",
       "      <td>10.0</td>\n",
       "      <td>60.0</td>\n",
       "      <td>15.0</td>\n",
       "    </tr>\n",
       "  </tbody>\n",
       "</table>\n",
       "<p>5 rows × 2773 columns</p>\n",
       "</div>"
      ],
      "text/plain": [
       "     N_p    N_s   N_t  aca_p_11  aca_s_11  aca_t_11  aca_tot_11    bn  \\\n",
       "0   90.0    NaN  22.0       7.8       NaN       7.9         7.9  M015   \n",
       "1  161.0    NaN  34.0       7.8       NaN       9.1         8.4  M019   \n",
       "2  367.0    NaN  42.0       8.6       NaN       7.5         8.0  M020   \n",
       "3  151.0  145.0  29.0       8.5       7.4       7.8         7.9  M034   \n",
       "4   90.0    NaN  23.0       7.9       NaN       8.1         8.0  M063   \n",
       "\n",
       "   com_p_11  com_s_11   ...    t_q8c_1  t_q8c_2  t_q8c_3 t_q8c_4  t_q9  \\\n",
       "0       7.6       NaN   ...       29.0     67.0      5.0     0.0   NaN   \n",
       "1       7.6       NaN   ...       74.0     21.0      6.0     0.0   NaN   \n",
       "2       8.3       NaN   ...       33.0     35.0     20.0    13.0   NaN   \n",
       "3       8.2       5.9   ...       21.0     45.0     28.0     7.0   NaN   \n",
       "4       7.9       NaN   ...       59.0     36.0      5.0     0.0   NaN   \n",
       "\n",
       "   t_q9_1  t_q9_2  t_q9_3  t_q9_4  t_q9_5  \n",
       "0     5.0    14.0    52.0    24.0     5.0  \n",
       "1     3.0     6.0     3.0    78.0     9.0  \n",
       "2     3.0     5.0    16.0    70.0     5.0  \n",
       "3     0.0    18.0    32.0    39.0    11.0  \n",
       "4    10.0     5.0    10.0    60.0    15.0  \n",
       "\n",
       "[5 rows x 2773 columns]"
      ]
     },
     "execution_count": 156,
     "metadata": {},
     "output_type": "execute_result"
    }
   ],
   "source": [
    "survey.head()"
   ]
  },
  {
   "cell_type": "code",
   "execution_count": 157,
   "metadata": {},
   "outputs": [
    {
     "data": {
      "text/plain": [
       "(1702, 2773)"
      ]
     },
     "execution_count": 157,
     "metadata": {},
     "output_type": "execute_result"
    }
   ],
   "source": [
    "survey.shape"
   ]
  },
  {
   "cell_type": "code",
   "execution_count": 158,
   "metadata": {},
   "outputs": [],
   "source": [
    "survey['DBN'] = survey['dbn']"
   ]
  },
  {
   "cell_type": "code",
   "execution_count": 159,
   "metadata": {},
   "outputs": [],
   "source": [
    "col = [\"dbn\", \"rr_s\", \"rr_t\", \"rr_p\", \"N_s\", \"N_t\", \"N_p\", \"saf_p_11\", \"com_p_11\", \"eng_p_11\", \n",
    "       \"aca_p_11\", \"saf_t_11\", \"com_t_11\", \"eng_t_11\", \"aca_t_11\", \"saf_s_11\", \"com_s_11\", \"eng_s_11\", \n",
    "       \"aca_s_11\", \"saf_tot_11\", \"com_tot_11\", \"eng_tot_11\", \"aca_tot_11\"]"
   ]
  },
  {
   "cell_type": "code",
   "execution_count": 160,
   "metadata": {},
   "outputs": [],
   "source": [
    "survey = survey.loc[:,col]"
   ]
  },
  {
   "cell_type": "code",
   "execution_count": 161,
   "metadata": {},
   "outputs": [
    {
     "data": {
      "text/plain": [
       "(1702, 23)"
      ]
     },
     "execution_count": 161,
     "metadata": {},
     "output_type": "execute_result"
    }
   ],
   "source": [
    "survey.shape"
   ]
  },
  {
   "cell_type": "code",
   "execution_count": 162,
   "metadata": {},
   "outputs": [],
   "source": [
    "data['survey'] = survey"
   ]
  },
  {
   "cell_type": "markdown",
   "metadata": {},
   "source": [
    "* `class_size` does not have `DBN` column\n",
    "* `hs_directory` has `dbn` column, we can just rename it."
   ]
  },
  {
   "cell_type": "markdown",
   "metadata": {},
   "source": [
    "* `DBN` in the `sat_results` data is just a combination of the `CSD` and `SCHOOL CODE` columns in the `class_size` data. The main difference is that the `DBN` is padded, so that the `CSD` portion of it always consists of two digits. That means we'll need to add a leading 0 to the `CSD` if the `CSD` is less than two digits long."
   ]
  },
  {
   "cell_type": "code",
   "execution_count": 163,
   "metadata": {},
   "outputs": [],
   "source": [
    "data['hs_directory']['DBN'] = data['hs_directory']['dbn']"
   ]
  },
  {
   "cell_type": "code",
   "execution_count": 164,
   "metadata": {},
   "outputs": [],
   "source": [
    "data['class_size']['padded_csd'] = data[\"class_size\"][\"CSD\"].apply(lambda num:str(num).zfill(2))\n",
    "data['class_size']['DBN'] = data['class_size']['padded_csd'] + data['class_size']['SCHOOL CODE']"
   ]
  },
  {
   "cell_type": "code",
   "execution_count": 165,
   "metadata": {},
   "outputs": [
    {
     "data": {
      "text/plain": [
       "0    01M015\n",
       "1    01M015\n",
       "2    01M015\n",
       "3    01M015\n",
       "4    01M015\n",
       "Name: DBN, dtype: object"
      ]
     },
     "execution_count": 165,
     "metadata": {},
     "output_type": "execute_result"
    }
   ],
   "source": [
    "data['class_size']['DBN'].head()"
   ]
  },
  {
   "cell_type": "markdown",
   "metadata": {},
   "source": [
    "* We want to create column of total SAT score, before that we will need to convert the `SAT Math Avg. Score`, `SAT Critical Reading Avg. Score`, and `SAT Writing Avg. Score` columns in the sat_results data set from the object (string) data type to a numeric data type."
   ]
  },
  {
   "cell_type": "code",
   "execution_count": 166,
   "metadata": {},
   "outputs": [
    {
     "data": {
      "text/plain": [
       "0    1122.0\n",
       "1    1172.0\n",
       "2    1149.0\n",
       "3    1174.0\n",
       "4    1207.0\n",
       "Name: sat_score, dtype: float64"
      ]
     },
     "execution_count": 166,
     "metadata": {},
     "output_type": "execute_result"
    }
   ],
   "source": [
    "col = ['SAT Math Avg. Score', 'SAT Critical Reading Avg. Score', 'SAT Writing Avg. Score']\n",
    "for c in col:\n",
    "    data[\"sat_results\"][c] = pd.to_numeric(data[\"sat_results\"][c], errors=\"coerce\")\n",
    "    \n",
    "data[\"sat_results\"]['sat_score'] = data[\"sat_results\"].loc[:,col].sum(axis=1)\n",
    "data[\"sat_results\"]['sat_score'].head()"
   ]
  },
  {
   "cell_type": "markdown",
   "metadata": {},
   "source": [
    "* we'll want to parse the latitude and longitude coordinates for each school. This will enable us to map the schools and uncover any geographic patterns in the data. The coordinates are currently in the text field `Location 1` in the `hs_directory` data set."
   ]
  },
  {
   "cell_type": "code",
   "execution_count": 167,
   "metadata": {},
   "outputs": [
    {
     "data": {
      "text/html": [
       "<div>\n",
       "<style scoped>\n",
       "    .dataframe tbody tr th:only-of-type {\n",
       "        vertical-align: middle;\n",
       "    }\n",
       "\n",
       "    .dataframe tbody tr th {\n",
       "        vertical-align: top;\n",
       "    }\n",
       "\n",
       "    .dataframe thead th {\n",
       "        text-align: right;\n",
       "    }\n",
       "</style>\n",
       "<table border=\"1\" class=\"dataframe\">\n",
       "  <thead>\n",
       "    <tr style=\"text-align: right;\">\n",
       "      <th></th>\n",
       "      <th>dbn</th>\n",
       "      <th>school_name</th>\n",
       "      <th>boro</th>\n",
       "      <th>building_code</th>\n",
       "      <th>phone_number</th>\n",
       "      <th>fax_number</th>\n",
       "      <th>grade_span_min</th>\n",
       "      <th>grade_span_max</th>\n",
       "      <th>expgrade_span_min</th>\n",
       "      <th>expgrade_span_max</th>\n",
       "      <th>...</th>\n",
       "      <th>priority04</th>\n",
       "      <th>priority05</th>\n",
       "      <th>priority06</th>\n",
       "      <th>priority07</th>\n",
       "      <th>priority08</th>\n",
       "      <th>priority09</th>\n",
       "      <th>priority10</th>\n",
       "      <th>Location 1</th>\n",
       "      <th>DBN</th>\n",
       "      <th>lat</th>\n",
       "    </tr>\n",
       "  </thead>\n",
       "  <tbody>\n",
       "    <tr>\n",
       "      <th>0</th>\n",
       "      <td>17K548</td>\n",
       "      <td>Brooklyn School for Music &amp; Theatre</td>\n",
       "      <td>Brooklyn</td>\n",
       "      <td>K440</td>\n",
       "      <td>718-230-6250</td>\n",
       "      <td>718-230-6262</td>\n",
       "      <td>9</td>\n",
       "      <td>12</td>\n",
       "      <td>NaN</td>\n",
       "      <td>NaN</td>\n",
       "      <td>...</td>\n",
       "      <td>NaN</td>\n",
       "      <td>NaN</td>\n",
       "      <td>NaN</td>\n",
       "      <td>NaN</td>\n",
       "      <td>NaN</td>\n",
       "      <td>NaN</td>\n",
       "      <td>NaN</td>\n",
       "      <td>883 Classon Avenue\\nBrooklyn, NY 11225\\n(40.67...</td>\n",
       "      <td>17K548</td>\n",
       "      <td>40.67029890700047</td>\n",
       "    </tr>\n",
       "    <tr>\n",
       "      <th>1</th>\n",
       "      <td>09X543</td>\n",
       "      <td>High School for Violin and Dance</td>\n",
       "      <td>Bronx</td>\n",
       "      <td>X400</td>\n",
       "      <td>718-842-0687</td>\n",
       "      <td>718-589-9849</td>\n",
       "      <td>9</td>\n",
       "      <td>12</td>\n",
       "      <td>NaN</td>\n",
       "      <td>NaN</td>\n",
       "      <td>...</td>\n",
       "      <td>Then to New York City residents</td>\n",
       "      <td>NaN</td>\n",
       "      <td>NaN</td>\n",
       "      <td>NaN</td>\n",
       "      <td>NaN</td>\n",
       "      <td>NaN</td>\n",
       "      <td>NaN</td>\n",
       "      <td>1110 Boston Road\\nBronx, NY 10456\\n(40.8276026...</td>\n",
       "      <td>09X543</td>\n",
       "      <td>40.8276026690005</td>\n",
       "    </tr>\n",
       "    <tr>\n",
       "      <th>2</th>\n",
       "      <td>09X327</td>\n",
       "      <td>Comprehensive Model School Project M.S. 327</td>\n",
       "      <td>Bronx</td>\n",
       "      <td>X240</td>\n",
       "      <td>718-294-8111</td>\n",
       "      <td>718-294-8109</td>\n",
       "      <td>6</td>\n",
       "      <td>12</td>\n",
       "      <td>NaN</td>\n",
       "      <td>NaN</td>\n",
       "      <td>...</td>\n",
       "      <td>Then to Bronx students or residents</td>\n",
       "      <td>Then to New York City residents</td>\n",
       "      <td>NaN</td>\n",
       "      <td>NaN</td>\n",
       "      <td>NaN</td>\n",
       "      <td>NaN</td>\n",
       "      <td>NaN</td>\n",
       "      <td>1501 Jerome Avenue\\nBronx, NY 10452\\n(40.84241...</td>\n",
       "      <td>09X327</td>\n",
       "      <td>40.842414068000494</td>\n",
       "    </tr>\n",
       "    <tr>\n",
       "      <th>3</th>\n",
       "      <td>02M280</td>\n",
       "      <td>Manhattan Early College School for Advertising</td>\n",
       "      <td>Manhattan</td>\n",
       "      <td>M520</td>\n",
       "      <td>718-935-3477</td>\n",
       "      <td>NaN</td>\n",
       "      <td>9</td>\n",
       "      <td>10</td>\n",
       "      <td>9</td>\n",
       "      <td>14.0</td>\n",
       "      <td>...</td>\n",
       "      <td>Then to New York City residents</td>\n",
       "      <td>NaN</td>\n",
       "      <td>NaN</td>\n",
       "      <td>NaN</td>\n",
       "      <td>NaN</td>\n",
       "      <td>NaN</td>\n",
       "      <td>NaN</td>\n",
       "      <td>411 Pearl Street\\nNew York, NY 10038\\n(40.7106...</td>\n",
       "      <td>02M280</td>\n",
       "      <td>40.71067947100045</td>\n",
       "    </tr>\n",
       "    <tr>\n",
       "      <th>4</th>\n",
       "      <td>28Q680</td>\n",
       "      <td>Queens Gateway to Health Sciences Secondary Sc...</td>\n",
       "      <td>Queens</td>\n",
       "      <td>Q695</td>\n",
       "      <td>718-969-3155</td>\n",
       "      <td>718-969-3552</td>\n",
       "      <td>6</td>\n",
       "      <td>12</td>\n",
       "      <td>NaN</td>\n",
       "      <td>NaN</td>\n",
       "      <td>...</td>\n",
       "      <td>Then to New York City residents</td>\n",
       "      <td>NaN</td>\n",
       "      <td>NaN</td>\n",
       "      <td>NaN</td>\n",
       "      <td>NaN</td>\n",
       "      <td>NaN</td>\n",
       "      <td>NaN</td>\n",
       "      <td>160-20 Goethals Avenue\\nJamaica, NY 11432\\n(40...</td>\n",
       "      <td>28Q680</td>\n",
       "      <td>40.718810094000446</td>\n",
       "    </tr>\n",
       "  </tbody>\n",
       "</table>\n",
       "<p>5 rows × 60 columns</p>\n",
       "</div>"
      ],
      "text/plain": [
       "      dbn                                        school_name       boro  \\\n",
       "0  17K548                Brooklyn School for Music & Theatre   Brooklyn   \n",
       "1  09X543                   High School for Violin and Dance      Bronx   \n",
       "2  09X327        Comprehensive Model School Project M.S. 327      Bronx   \n",
       "3  02M280     Manhattan Early College School for Advertising  Manhattan   \n",
       "4  28Q680  Queens Gateway to Health Sciences Secondary Sc...     Queens   \n",
       "\n",
       "  building_code    phone_number    fax_number grade_span_min  grade_span_max  \\\n",
       "0          K440    718-230-6250  718-230-6262              9              12   \n",
       "1          X400    718-842-0687  718-589-9849              9              12   \n",
       "2          X240    718-294-8111  718-294-8109              6              12   \n",
       "3          M520  718-935-3477             NaN              9              10   \n",
       "4          Q695    718-969-3155  718-969-3552              6              12   \n",
       "\n",
       "  expgrade_span_min  expgrade_span_max         ...          \\\n",
       "0               NaN                NaN         ...           \n",
       "1               NaN                NaN         ...           \n",
       "2               NaN                NaN         ...           \n",
       "3                 9               14.0         ...           \n",
       "4               NaN                NaN         ...           \n",
       "\n",
       "                            priority04                       priority05  \\\n",
       "0                                  NaN                              NaN   \n",
       "1      Then to New York City residents                              NaN   \n",
       "2  Then to Bronx students or residents  Then to New York City residents   \n",
       "3      Then to New York City residents                              NaN   \n",
       "4      Then to New York City residents                              NaN   \n",
       "\n",
       "  priority06 priority07 priority08  priority09 priority10  \\\n",
       "0        NaN        NaN        NaN         NaN        NaN   \n",
       "1        NaN        NaN        NaN         NaN        NaN   \n",
       "2        NaN        NaN        NaN         NaN        NaN   \n",
       "3        NaN        NaN        NaN         NaN        NaN   \n",
       "4        NaN        NaN        NaN         NaN        NaN   \n",
       "\n",
       "                                          Location 1     DBN  \\\n",
       "0  883 Classon Avenue\\nBrooklyn, NY 11225\\n(40.67...  17K548   \n",
       "1  1110 Boston Road\\nBronx, NY 10456\\n(40.8276026...  09X543   \n",
       "2  1501 Jerome Avenue\\nBronx, NY 10452\\n(40.84241...  09X327   \n",
       "3  411 Pearl Street\\nNew York, NY 10038\\n(40.7106...  02M280   \n",
       "4  160-20 Goethals Avenue\\nJamaica, NY 11432\\n(40...  28Q680   \n",
       "\n",
       "                  lat  \n",
       "0   40.67029890700047  \n",
       "1    40.8276026690005  \n",
       "2  40.842414068000494  \n",
       "3   40.71067947100045  \n",
       "4  40.718810094000446  \n",
       "\n",
       "[5 rows x 60 columns]"
      ]
     },
     "execution_count": 167,
     "metadata": {},
     "output_type": "execute_result"
    }
   ],
   "source": [
    "import re\n",
    "def get_lat(line):\n",
    "    s_lst = re.findall('\\(.+\\)', line)\n",
    "    s = s_lst[0].replace('(', '').replace(')', '')\n",
    "    return s.split(',')[0].strip()\n",
    "\n",
    "data[\"hs_directory\"].loc[:, 'lat'] = data[\"hs_directory\"].loc[:, 'Location 1'].apply(get_lat)\n",
    "data[\"hs_directory\"].head()"
   ]
  },
  {
   "cell_type": "code",
   "execution_count": 168,
   "metadata": {},
   "outputs": [],
   "source": [
    "import re\n",
    "\n",
    "def get_long(location):\n",
    "    location_lst = re.findall('\\(.+\\)', location)\n",
    "    return location_lst[0].split(',')[1].replace(')', '').strip()\n",
    "\n",
    "data[\"hs_directory\"].loc[:, 'lon'] = data[\"hs_directory\"].loc[:, 'Location 1'].apply(get_long)"
   ]
  },
  {
   "cell_type": "code",
   "execution_count": 169,
   "metadata": {},
   "outputs": [],
   "source": [
    "data[\"hs_directory\"].loc[:, 'lat'] = pd.to_numeric(data[\"hs_directory\"].loc[:, 'lat'], errors=\"coerce\")\n",
    "data[\"hs_directory\"].loc[:, 'lon'] = pd.to_numeric(data[\"hs_directory\"].loc[:, 'lon'], errors=\"coerce\")"
   ]
  },
  {
   "cell_type": "code",
   "execution_count": 171,
   "metadata": {},
   "outputs": [
    {
     "data": {
      "text/plain": [
       "array(['0K', '01', '02', '03', '04', '05', '0K-09', nan, '06', '07', '08',\n",
       "       'MS Core', '09-12', '09'], dtype=object)"
      ]
     },
     "execution_count": 171,
     "metadata": {},
     "output_type": "execute_result"
    }
   ],
   "source": [
    "data['class_size']['GRADE'].unique()"
   ]
  },
  {
   "cell_type": "markdown",
   "metadata": {},
   "source": [
    "* Because we're dealing with high schools, we're only concerned with grades 9 through 12"
   ]
  },
  {
   "cell_type": "code",
   "execution_count": 172,
   "metadata": {},
   "outputs": [
    {
     "data": {
      "text/plain": [
       "array(['GEN ED', 'CTT', 'SPEC ED', nan, 'G&T'], dtype=object)"
      ]
     },
     "execution_count": 172,
     "metadata": {},
     "output_type": "execute_result"
    }
   ],
   "source": [
    "data['class_size']['PROGRAM TYPE'].unique()"
   ]
  },
  {
   "cell_type": "markdown",
   "metadata": {},
   "source": [
    "* Each school can have multiple program types. Because `GEN ED` is the largest category by far, let's only select rows where `PROGRAM TYPE` is `GEN ED`."
   ]
  },
  {
   "cell_type": "code",
   "execution_count": 174,
   "metadata": {},
   "outputs": [],
   "source": [
    "class_size = data[\"class_size\"]\n",
    "class_size = class_size[(class_size[\"GRADE\"] == \"09-12\") & (class_size[\"PROGRAM TYPE\"] == \"GEN ED\")]"
   ]
  },
  {
   "cell_type": "code",
   "execution_count": 175,
   "metadata": {},
   "outputs": [
    {
     "data": {
      "text/html": [
       "<div>\n",
       "<style scoped>\n",
       "    .dataframe tbody tr th:only-of-type {\n",
       "        vertical-align: middle;\n",
       "    }\n",
       "\n",
       "    .dataframe tbody tr th {\n",
       "        vertical-align: top;\n",
       "    }\n",
       "\n",
       "    .dataframe thead th {\n",
       "        text-align: right;\n",
       "    }\n",
       "</style>\n",
       "<table border=\"1\" class=\"dataframe\">\n",
       "  <thead>\n",
       "    <tr style=\"text-align: right;\">\n",
       "      <th></th>\n",
       "      <th>DBN</th>\n",
       "      <th>CSD</th>\n",
       "      <th>NUMBER OF STUDENTS / SEATS FILLED</th>\n",
       "      <th>NUMBER OF SECTIONS</th>\n",
       "      <th>AVERAGE CLASS SIZE</th>\n",
       "      <th>SIZE OF SMALLEST CLASS</th>\n",
       "      <th>SIZE OF LARGEST CLASS</th>\n",
       "      <th>SCHOOLWIDE PUPIL-TEACHER RATIO</th>\n",
       "    </tr>\n",
       "  </thead>\n",
       "  <tbody>\n",
       "    <tr>\n",
       "      <th>0</th>\n",
       "      <td>01M292</td>\n",
       "      <td>1</td>\n",
       "      <td>88.0000</td>\n",
       "      <td>4.000000</td>\n",
       "      <td>22.564286</td>\n",
       "      <td>18.50</td>\n",
       "      <td>26.571429</td>\n",
       "      <td>NaN</td>\n",
       "    </tr>\n",
       "    <tr>\n",
       "      <th>1</th>\n",
       "      <td>01M332</td>\n",
       "      <td>1</td>\n",
       "      <td>46.0000</td>\n",
       "      <td>2.000000</td>\n",
       "      <td>22.000000</td>\n",
       "      <td>21.00</td>\n",
       "      <td>23.500000</td>\n",
       "      <td>NaN</td>\n",
       "    </tr>\n",
       "    <tr>\n",
       "      <th>2</th>\n",
       "      <td>01M378</td>\n",
       "      <td>1</td>\n",
       "      <td>33.0000</td>\n",
       "      <td>1.000000</td>\n",
       "      <td>33.000000</td>\n",
       "      <td>33.00</td>\n",
       "      <td>33.000000</td>\n",
       "      <td>NaN</td>\n",
       "    </tr>\n",
       "    <tr>\n",
       "      <th>3</th>\n",
       "      <td>01M448</td>\n",
       "      <td>1</td>\n",
       "      <td>105.6875</td>\n",
       "      <td>4.750000</td>\n",
       "      <td>22.231250</td>\n",
       "      <td>18.25</td>\n",
       "      <td>27.062500</td>\n",
       "      <td>NaN</td>\n",
       "    </tr>\n",
       "    <tr>\n",
       "      <th>4</th>\n",
       "      <td>01M450</td>\n",
       "      <td>1</td>\n",
       "      <td>57.6000</td>\n",
       "      <td>2.733333</td>\n",
       "      <td>21.200000</td>\n",
       "      <td>19.40</td>\n",
       "      <td>22.866667</td>\n",
       "      <td>NaN</td>\n",
       "    </tr>\n",
       "  </tbody>\n",
       "</table>\n",
       "</div>"
      ],
      "text/plain": [
       "      DBN  CSD  NUMBER OF STUDENTS / SEATS FILLED  NUMBER OF SECTIONS  \\\n",
       "0  01M292    1                            88.0000            4.000000   \n",
       "1  01M332    1                            46.0000            2.000000   \n",
       "2  01M378    1                            33.0000            1.000000   \n",
       "3  01M448    1                           105.6875            4.750000   \n",
       "4  01M450    1                            57.6000            2.733333   \n",
       "\n",
       "   AVERAGE CLASS SIZE  SIZE OF SMALLEST CLASS  SIZE OF LARGEST CLASS  \\\n",
       "0           22.564286                   18.50              26.571429   \n",
       "1           22.000000                   21.00              23.500000   \n",
       "2           33.000000                   33.00              33.000000   \n",
       "3           22.231250                   18.25              27.062500   \n",
       "4           21.200000                   19.40              22.866667   \n",
       "\n",
       "   SCHOOLWIDE PUPIL-TEACHER RATIO  \n",
       "0                             NaN  \n",
       "1                             NaN  \n",
       "2                             NaN  \n",
       "3                             NaN  \n",
       "4                             NaN  "
      ]
     },
     "execution_count": 175,
     "metadata": {},
     "output_type": "execute_result"
    }
   ],
   "source": [
    "class_size = class_size.groupby('DBN').mean()\n",
    "class_size.reset_index(inplace = True)\n",
    "data['class_size'] = class_size\n",
    "data['class_size'].head()"
   ]
  },
  {
   "cell_type": "code",
   "execution_count": 176,
   "metadata": {},
   "outputs": [],
   "source": [
    "data[\"demographics\"] = data[\"demographics\"][data[\"demographics\"].schoolyear == 20112012]"
   ]
  },
  {
   "cell_type": "code",
   "execution_count": 178,
   "metadata": {},
   "outputs": [],
   "source": [
    "data[\"graduation\"] = data[\"graduation\"][(data[\"graduation\"][\"Cohort\"] == \"2006\") & \n",
    "                                        (data[\"graduation\"][\"Demographic\"] == \"Total Cohort\")]"
   ]
  },
  {
   "cell_type": "code",
   "execution_count": 180,
   "metadata": {},
   "outputs": [],
   "source": [
    "cols = ['AP Test Takers', 'Total Exams Taken', 'Number of Exams with scores 3 4 or 5']\n",
    "\n",
    "for col in cols:\n",
    "    data['ap_2010'].loc[:,col] = pd.to_numeric(data['ap_2010'].loc[:,col], errors=\"coerce\")"
   ]
  },
  {
   "cell_type": "markdown",
   "metadata": {},
   "source": [
    "### Merge data"
   ]
  },
  {
   "cell_type": "code",
   "execution_count": 186,
   "metadata": {},
   "outputs": [],
   "source": [
    "combined = data[\"sat_results\"]\n",
    "combined = combined.merge(data[\"ap_2010\"], how=\"left\")\n",
    "combined = combined.merge(data[\"graduation\"], how=\"left\")"
   ]
  },
  {
   "cell_type": "code",
   "execution_count": 188,
   "metadata": {},
   "outputs": [],
   "source": [
    "data['survey'] = data['survey'].rename(columns={\"dbn\":\"DBN\"})"
   ]
  },
  {
   "cell_type": "code",
   "execution_count": 190,
   "metadata": {},
   "outputs": [],
   "source": [
    "combined = combined.merge(data[\"class_size\"], how=\"inner\", on=\"DBN\")\n",
    "combined = combined.merge(data[\"demographics\"], how=\"inner\", on=\"DBN\")\n",
    "combined = combined.merge(data[\"survey\"], how=\"inner\", on=\"DBN\")\n",
    "combined = combined.merge(data[\"hs_directory\"], how=\"inner\", on=\"DBN\")"
   ]
  },
  {
   "cell_type": "markdown",
   "metadata": {},
   "source": [
    "### Fill missing values"
   ]
  },
  {
   "cell_type": "code",
   "execution_count": 191,
   "metadata": {},
   "outputs": [],
   "source": [
    "combined = combined.fillna(combined.mean())\n",
    "combined = combined.fillna(value=0)"
   ]
  },
  {
   "cell_type": "code",
   "execution_count": 192,
   "metadata": {},
   "outputs": [],
   "source": [
    "combined[\"school_dist\"] = combined.DBN.apply(lambda s:s[:2])"
   ]
  },
  {
   "cell_type": "markdown",
   "metadata": {},
   "source": [
    "### Correlations\n"
   ]
  },
  {
   "cell_type": "code",
   "execution_count": 193,
   "metadata": {},
   "outputs": [
    {
     "data": {
      "text/plain": [
       "SAT Critical Reading Avg. Score         0.472399\n",
       "SAT Math Avg. Score                     0.465612\n",
       "SAT Writing Avg. Score                  0.472854\n",
       "sat_score                               1.000000\n",
       "AP Test Takers                          0.254925\n",
       "Total Exams Taken                       0.250432\n",
       "Number of Exams with scores 3 4 or 5    0.221759\n",
       "Total Cohort                            0.161070\n",
       "CSD_x                                   0.080944\n",
       "NUMBER OF STUDENTS / SEATS FILLED_x     0.305352\n",
       "NUMBER OF SECTIONS_x                    0.296805\n",
       "AVERAGE CLASS SIZE_x                    0.326426\n",
       "SIZE OF SMALLEST CLASS_x                0.073062\n",
       "SIZE OF LARGEST CLASS_x                 0.378741\n",
       "SCHOOLWIDE PUPIL-TEACHER RATIO_x             NaN\n",
       "schoolyear_x                                 NaN\n",
       "fl_percent_x                                 NaN\n",
       "frl_percent_x                          -0.417507\n",
       "total_enrollment_x                      0.308198\n",
       "ell_num_x                               0.000867\n",
       "ell_percent_x                          -0.247900\n",
       "sped_num_x                              0.127662\n",
       "sped_percent_x                         -0.259227\n",
       "asian_num_x                             0.297773\n",
       "asian_per_x                             0.256366\n",
       "black_num_x                             0.158436\n",
       "black_per_x                            -0.085260\n",
       "hispanic_num_x                          0.118425\n",
       "hispanic_per_x                         -0.233828\n",
       "white_num_x                             0.279656\n",
       "                                          ...   \n",
       "rr_p                                   -0.048947\n",
       "N_s                                     0.347000\n",
       "N_t                                     0.294385\n",
       "N_p                                     0.334171\n",
       "saf_p_11                               -0.000165\n",
       "com_p_11                               -0.120304\n",
       "eng_p_11                               -0.000323\n",
       "aca_p_11                               -0.005153\n",
       "saf_t_11                                0.157688\n",
       "com_t_11                                0.004766\n",
       "eng_t_11                               -0.038643\n",
       "aca_t_11                                0.014868\n",
       "saf_s_11                                0.107336\n",
       "com_s_11                               -0.076879\n",
       "eng_s_11                                0.017488\n",
       "aca_s_11                                0.111054\n",
       "saf_tot_11                              0.119855\n",
       "com_tot_11                             -0.060478\n",
       "eng_tot_11                             -0.024619\n",
       "aca_tot_11                              0.037769\n",
       "grade_span_max                               NaN\n",
       "expgrade_span_max                            NaN\n",
       "zip                                     0.024594\n",
       "total_students                          0.291860\n",
       "number_programs                         0.182280\n",
       "priority08                                   NaN\n",
       "priority09                                   NaN\n",
       "priority10                                   NaN\n",
       "lat                                    -0.080811\n",
       "lon                                    -0.048274\n",
       "Name: sat_score, Length: 121, dtype: float64"
      ]
     },
     "execution_count": 193,
     "metadata": {},
     "output_type": "execute_result"
    }
   ],
   "source": [
    "correlations = combined.corr()\n",
    "correlations = correlations['sat_score']\n",
    "correlations"
   ]
  },
  {
   "cell_type": "markdown",
   "metadata": {},
   "source": [
    "* Unsurprisingly, `SAT Critical Reading Avg. Score`, `SAT Math Avg. Score`, `SAT Writing Avg. Score`, and `sat_score` are strongly correlated with `sat_score`.\n"
   ]
  },
  {
   "cell_type": "markdown",
   "metadata": {},
   "source": [
    "* `total_enrollment` has a strong positive correlation with `sat_score`. This is surprising because we'd expect smaller schools where students receive more attention to have higher scores. However, it looks like the opposite is true -- larger schools tend to do better on the SAT.\n",
    "* Other columns that are proxies for enrollment correlate similarly. These include `total_students`, `N_s`, `N_p`, `N_t`, `AP Test Takers`, `Total Exams Taken`, and `NUMBER OF SECTIONS`. Both the percentage of females (`female_per`) and number of females (`female_num`) at a school correlate positively with SAT score, whereas the percentage of males (`male_per`) and the number of males (`male_num`) correlate negatively. This could indicate that women do better on the SAT than men.\n",
    "* Teacher and student ratings of school safety (`saf_t_11`, and `saf_s_11`) correlate with sat_score.\n",
    "* Student ratings of school academic standards (`aca_s_11`) correlate with sat_score, but this does not hold for ratings from teachers and parents (`aca_p_11` and `aca_t_11`).\n",
    "* There is significant racial inequality in SAT scores (`white_per`, `asian_per`, `black_per`, `hispanic_per`).\n",
    "* The percentage of English language learners at the school (`ell_percent`, `frl_percent`) has a strong negative correlation with SAT scores.\n",
    "* Because enrollment seems to have such a strong correlation, let's make a scatterplot of total_enrollment vs sat_score. Each point in the scatterplot will represent a high school, so we'll be able to see if there are any interesting patterns."
   ]
  },
  {
   "cell_type": "code",
   "execution_count": 195,
   "metadata": {},
   "outputs": [
    {
     "data": {
      "text/plain": [
       "Text(0, 0.5, 'sat_score')"
      ]
     },
     "execution_count": 195,
     "metadata": {},
     "output_type": "execute_result"
    },
    {
     "data": {
      "image/png": "[encoded data removed]",
      "text/plain": [
       "<Figure size 432x288 with 1 Axes>"
      ]
     },
     "metadata": {
      "needs_background": "light"
     },
     "output_type": "display_data"
    }
   ],
   "source": [
    "plt.scatter(x='total_enrollment', y='sat_score', data=combined)\n",
    "plt.xlabel(\"total_enrollment\")\n",
    "plt.ylabel(\"sat_score\")"
   ]
  },
  {
   "cell_type": "markdown",
   "metadata": {},
   "source": [
    "* Judging from the plot we just created, it doesn't appear that there's an extremely strong correlation between `sat_score` and `total_enrollment`. If there was a very strong correlation, we'd expect all of the points to line up. Instead, there's a large cluster of schools, and then a few others going off in three different directions.\n",
    "\n",
    "* However, there's an interesting cluster of points at the bottom left where total_enrollment and sat_score are both low. This cluster may be what's making the r value so high. It's worth extracting the names of the schools in this cluster so we can research them further."
   ]
  },
  {
   "cell_type": "code",
   "execution_count": 196,
   "metadata": {},
   "outputs": [
    {
     "name": "stdout",
     "output_type": "stream",
     "text": [
      "18                                         0\n",
      "19                                         0\n",
      "20                                         0\n",
      "31                                         0\n",
      "32                                         0\n",
      "33                                         0\n",
      "56                                         0\n",
      "57                                         0\n",
      "59                                         0\n",
      "74                                         0\n",
      "83                                         0\n",
      "91       INTERNATIONAL COMMUNITY HIGH SCHOOL\n",
      "103                                        0\n",
      "109                                        0\n",
      "111                                        0\n",
      "123                                        0\n",
      "125                                        0\n",
      "126          BRONX INTERNATIONAL HIGH SCHOOL\n",
      "139    KINGSBRIDGE INTERNATIONAL HIGH SCHOOL\n",
      "141    INTERNATIONAL SCHOOL FOR LIBERAL ARTS\n",
      "176                                        0\n",
      "177                                        0\n",
      "178                                        0\n",
      "179            HIGH SCHOOL OF WORLD CULTURES\n",
      "188       BROOKLYN INTERNATIONAL HIGH SCHOOL\n",
      "191                                        0\n",
      "197                      FOUNDATIONS ACADEMY\n",
      "218                                        0\n",
      "222                                        0\n",
      "225    INTERNATIONAL HIGH SCHOOL AT PROSPECT\n",
      "237               IT TAKES A VILLAGE ACADEMY\n",
      "253                MULTICULTURAL HIGH SCHOOL\n",
      "264                                        0\n",
      "269                                        0\n",
      "286    PAN AMERICAN INTERNATIONAL HIGH SCHOO\n",
      "319                                        0\n",
      "321                                        0\n",
      "326                                        0\n",
      "335                                        0\n",
      "338                                        0\n",
      "Name: School Name, dtype: object\n"
     ]
    }
   ],
   "source": [
    "low_enrollment = combined[(combined.total_enrollment < 1000) & (combined.sat_score < 1000)]\n",
    "print(low_enrollment['School Name'])"
   ]
  },
  {
   "cell_type": "code",
   "execution_count": 197,
   "metadata": {},
   "outputs": [
    {
     "data": {
      "text/plain": [
       "<matplotlib.axes._subplots.AxesSubplot at 0x2580a3eee48>"
      ]
     },
     "execution_count": 197,
     "metadata": {},
     "output_type": "execute_result"
    },
    {
     "data": {
      "image/png": "[encoded data removed]",
      "text/plain": [
       "<Figure size 432x288 with 1 Axes>"
      ]
     },
     "metadata": {
      "needs_background": "light"
     },
     "output_type": "display_data"
    }
   ],
   "source": [
    "combined.plot.scatter('ell_percent', 'sat_score')"
   ]
  },
  {
   "cell_type": "code",
   "execution_count": null,
   "metadata": {},
   "outputs": [],
   "source": []
  }
 ],
 "metadata": {
  "kernelspec": {
   "display_name": "Python 3",
   "language": "python",
   "name": "python3"
  },
  "language_info": {
   "codemirror_mode": {
    "name": "ipython",
    "version": 3
   },
   "file_extension": ".py",
   "mimetype": "text/x-python",
   "name": "python",
   "nbconvert_exporter": "python",
   "pygments_lexer": "ipython3",
   "version": "3.7.1"
  }
 },
 "nbformat": 4,
 "nbformat_minor": 2
}
